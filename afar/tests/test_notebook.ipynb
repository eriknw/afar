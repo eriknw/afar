{
 "cells": [
  {
   "cell_type": "code",
   "execution_count": null,
   "id": "5fb62fe8-2ab2-4a33-a0d0-2c47d936068e",
   "metadata": {},
   "outputs": [],
   "source": [
    "import afar\n",
    "import pytest\n",
    "from pytest import raises"
   ]
  },
  {
   "cell_type": "code",
   "execution_count": null,
   "id": "0f2fa89d-3204-4d19-abc9-4ca4a47f27b1",
   "metadata": {},
   "outputs": [],
   "source": [
    "with afar.run(), locally:\n",
    "    x = 1\n",
    "    y = x + 1"
   ]
  },
  {
   "cell_type": "code",
   "execution_count": null,
   "id": "2edc7346-1c9f-4da6-ba7f-c7e78a711f1e",
   "metadata": {},
   "outputs": [],
   "source": [
    "with afar.run(), afar.locally:\n",
    "    pass"
   ]
  },
  {
   "cell_type": "code",
   "execution_count": null,
   "id": "48dc3a7a-4d4e-43bb-8734-24bffcb7acf3",
   "metadata": {},
   "outputs": [],
   "source": [
    "with afar.run(), locally:\n",
    "    pass"
   ]
  },
  {
   "cell_type": "code",
   "execution_count": null,
   "id": "9c16144e-33d2-4393-a794-532060ed4c56",
   "metadata": {},
   "outputs": [],
   "source": [
    "with afar.run(), afar.locally:\n",
    "    pass"
   ]
  },
  {
   "cell_type": "code",
   "execution_count": null,
   "id": "aa3c91a8-17f9-4ae0-aaa0-e5f16065eda6",
   "metadata": {},
   "outputs": [],
   "source": [
    "with raises(NameError, match=\"locallyblah\"):\n",
    "    with afar.run(), locallyblah:\n",
    "        pass"
   ]
  },
  {
   "cell_type": "code",
   "execution_count": null,
   "id": "4fe3cc35-6e3c-4f33-9b49-c8b0128ead15",
   "metadata": {},
   "outputs": [],
   "source": [
    "with raises(Exception, match=\"`afar.run` is missing a location\"):\n",
    "    with afar.run():\n",
    "        pass"
   ]
  },
  {
   "cell_type": "code",
   "execution_count": null,
   "id": "4faf636c-8c05-4315-b6ec-527c111341f4",
   "metadata": {},
   "outputs": [],
   "source": [
    "z = 1\n",
    "\n",
    "def f():\n",
    "    w = 10\n",
    "    with afar.run() as results, locally:\n",
    "        x = z\n",
    "        y = x + 1 + w\n",
    "    return results\n",
    "\n",
    "results = f()\n",
    "assert \"x\" not in results\n",
    "assert results[\"y\"] == 12\n",
    "assert not hasattr(results, \"w\")\n",
    "assert not hasattr(results, \"z\")"
   ]
  },
  {
   "cell_type": "code",
   "execution_count": null,
   "id": "5b9d7ecf-a237-4afd-b056-fc0574ef59ea",
   "metadata": {},
   "outputs": [],
   "source": [
    "with afar.run as results, afar.locally:\n",
    "    x = z\n",
    "    y = x + 1"
   ]
  },
  {
   "cell_type": "code",
   "execution_count": null,
   "id": "465e80b2-70fd-4475-b2d9-96a98c7b6e21",
   "metadata": {},
   "outputs": [],
   "source": [
    "with raises(NameError):\n",
    "    x\n",
    "assert results == {\"y\": 2}"
   ]
  },
  {
   "cell_type": "code",
   "execution_count": null,
   "id": "b5fad424-e765-4de0-8d0a-3a94085a3ff1",
   "metadata": {},
   "outputs": [],
   "source": [
    "with \\\n",
    "    afar.run() as results, \\\n",
    "    locally \\\n",
    ":\n",
    "    x = z\n",
    "    y = x + 1\n",
    "assert results == {'y': 2}"
   ]
  },
  {
   "cell_type": "code",
   "execution_count": null,
   "id": "c9812c52-0988-4664-94af-b4903acfc3b6",
   "metadata": {},
   "outputs": [],
   "source": [
    "data = {\"a\": 1}\n",
    "run = afar.run(data=data)\n",
    "with run, locally:\n",
    "    b = a + 1"
   ]
  },
  {
   "cell_type": "code",
   "execution_count": null,
   "id": "f8d033af-910a-412a-8370-7085da4ea79e",
   "metadata": {},
   "outputs": [],
   "source": [
    "assert run.data is data\n",
    "assert data == {\"a\": 1, \"b\": 2}\n",
    "c = 10"
   ]
  },
  {
   "cell_type": "code",
   "execution_count": null,
   "id": "908f1ce7-9871-4422-808c-ed822e54d10f",
   "metadata": {},
   "outputs": [],
   "source": [
    "with run, locally:\n",
    "    d = a + b + c\n",
    "assert data == {\"a\": 1, \"b\": 2, \"d\": 13}"
   ]
  },
  {
   "cell_type": "code",
   "execution_count": null,
   "id": "9a64e546-e6be-4fbe-a475-99682ab4e3c7",
   "metadata": {},
   "outputs": [],
   "source": [
    "# singleton doesn't save data\n",
    "with afar.run as data2, locally:\n",
    "    e = 100\n",
    "assert afar.run.data is None\n",
    "assert data2 == {\"e\": 100}"
   ]
  },
  {
   "cell_type": "code",
   "execution_count": null,
   "id": "27c4fe26-9556-45a4-bc52-0cf984fe173a",
   "metadata": {},
   "outputs": [],
   "source": [
    "with afar.run as results, locally:\n",
    "    a = 1\n",
    "    b = (\n",
    "        a\n",
    "        +\n",
    "        2\n",
    "    )\n",
    "assert results == {\"b\": 3}"
   ]
  },
  {
   "cell_type": "code",
   "execution_count": null,
   "id": "5341c4a0-4e3a-4f0d-b0bf-6161011cccdd",
   "metadata": {},
   "outputs": [],
   "source": [
    "with afar.run as results, locally:\n",
    "    a = 1\n",
    "    b = (\n",
    "        a\n",
    "        +\n",
    "        2\n",
    "    )"
   ]
  },
  {
   "cell_type": "code",
   "execution_count": null,
   "id": "21610817-b607-47ad-8779-d7a8c6991d26",
   "metadata": {},
   "outputs": [],
   "source": [
    "assert results == {\"b\": 3}"
   ]
  },
  {
   "cell_type": "code",
   "execution_count": null,
   "id": "8fa62f2c-880b-4b5c-b8e3-c88dc28661b6",
   "metadata": {},
   "outputs": [],
   "source": [
    "results"
   ]
  },
  {
   "cell_type": "code",
   "execution_count": null,
   "id": "f1d186ba-7e2f-4134-937d-b0f0123ef4d4",
   "metadata": {},
   "outputs": [],
   "source": [
    "afar.run.context_body"
   ]
  },
  {
   "cell_type": "code",
   "execution_count": null,
   "id": "db46db8b-324e-46ed-86d6-e3af7f814ab2",
   "metadata": {},
   "outputs": [],
   "source": [
    "run = afar.run()\n",
    "with run, later:\n",
    "    1 / 0\n",
    "assert run.context_body == [\"    1 / 0\\n\"]"
   ]
  },
  {
   "cell_type": "code",
   "execution_count": null,
   "id": "0a292f1a-e002-4ed9-b50a-14c82ed67d33",
   "metadata": {},
   "outputs": [],
   "source": [
    "with raises(RuntimeError, match=\"please put the context body on a new line\"):\n",
    "    with afar.run, later: pass"
   ]
  },
  {
   "cell_type": "code",
   "execution_count": null,
   "id": "f9b447f9-5fd6-452f-88a8-645b9849ac6f",
   "metadata": {},
   "outputs": [],
   "source": [
    "with run, later:\n",
    "    pass\n",
    "\n",
    "assert run.context_body == [\"    pass\\n\", \"\\n\"]"
   ]
  },
  {
   "cell_type": "code",
   "execution_count": null,
   "id": "5b0a8a5d-e17e-4027-8255-031be11e116c",
   "metadata": {},
   "outputs": [],
   "source": [
    "with raises(Exception, match=\"missing\"):\n",
    "    with run:\n",
    "        pass"
   ]
  },
  {
   "cell_type": "code",
   "execution_count": null,
   "id": "af3bb026-640b-453a-9770-58d1cb5bc3db",
   "metadata": {},
   "outputs": [],
   "source": [
    "with run, later:\n",
    "    b = a + 1\n",
    "    c = a + b\n",
    "\n",
    "assert run.context_body == [\"    b = a + 1\\n\", \"    c = a + b\\n\", \"\\n\"]"
   ]
  },
  {
   "cell_type": "code",
   "execution_count": null,
   "id": "78ed7fc1-5b04-4d33-a74f-b755cf2d3721",
   "metadata": {},
   "outputs": [],
   "source": [
    "with raises(Exception, match=\"missing\"):\n",
    "    with run:\n",
    "        with later:\n",
    "            pass"
   ]
  },
  {
   "cell_type": "code",
   "execution_count": null,
   "id": "6782bb6b-5f3d-4ae4-b1d1-838af3d433b8",
   "metadata": {},
   "outputs": [],
   "source": [
    "# It would be nice if we could make these fail\n",
    "with run, later as z:\n",
    "    pass\n",
    "\n",
    "with run, later as [z, *other]:\n",
    "    pass\n",
    "\n",
    "with run, later, z:\n",
    "    pass"
   ]
  },
  {
   "cell_type": "code",
   "execution_count": null,
   "id": "733d45ce-63b4-4b8b-88d1-474b3bc6ae5e",
   "metadata": {},
   "outputs": [],
   "source": [
    "with \\\n",
    "    run, \\\n",
    "    later \\\n",
    ":\n",
    "\n",
    "    pass\n",
    "\n",
    "# fmt: on\n",
    "\n",
    "assert run.context_body == [\"\\n\", \"    pass\\n\", \"\\n\", \"# fmt: on\\n\", \"\\n\"]"
   ]
  },
  {
   "cell_type": "code",
   "execution_count": null,
   "id": "75525582-0c9b-418f-a04f-31ec90a3afe5",
   "metadata": {},
   "outputs": [],
   "source": [
    "with \\\n",
    "    run as c, \\\n",
    "    later( \\\n",
    "    d= \\\n",
    "    \":\" \\\n",
    "    ) \\\n",
    ":\n",
    "\n",
    "    f\n",
    "    g\n",
    "    h(\n",
    "        z\n",
    "        =\n",
    "        2\n",
    "    )"
   ]
  },
  {
   "cell_type": "code",
   "execution_count": null,
   "id": "5922020d-83f6-4580-9421-ce1d6971b352",
   "metadata": {},
   "outputs": [],
   "source": [
    "assert run.context_body == [\n",
    "    \"\\n\",\n",
    "    \"    f\\n\",\n",
    "    \"    g\\n\",\n",
    "    \"    h(\\n\",\n",
    "    \"        z\\n\",\n",
    "    \"        =\\n\",\n",
    "    \"        2\\n\",\n",
    "    \"    )\\n\",\n",
    "]"
   ]
  },
  {
   "cell_type": "code",
   "execution_count": null,
   "id": "6ac00a91-248a-4f67-9856-a467485f1f50",
   "metadata": {},
   "outputs": [],
   "source": [
    "with \\\n",
    "    run, \\\n",
    "    later:\n",
    "    # :\n",
    "    (\n",
    "        1\n",
    "        +\n",
    "        2\n",
    "    )\n",
    "x = (\n",
    "    3\n",
    "    +\n",
    "    4\n",
    ")\n",
    "assert run.context_body == [\n",
    "    \"    # :\\n\",\n",
    "    \"    (\\n\",\n",
    "    \"        1\\n\",\n",
    "    \"        +\\n\",\n",
    "    \"        2\\n\",\n",
    "    \"    )\\n\",\n",
    "]"
   ]
  },
  {
   "cell_type": "code",
   "execution_count": null,
   "id": "06b47210-d489-4a0a-b5d1-bdad5ad710c4",
   "metadata": {},
   "outputs": [],
   "source": [
    "from operator import add\n",
    "from dask.distributed import Client\n",
    "\n",
    "client = Client()\n",
    "two = client.submit(add, 1, 1)\n",
    "\n",
    "with afar.run as results, afar.remotely:\n",
    "    three = two + 1\n",
    "assert three.result() == 3\n",
    "\n",
    "with afar.get, afar.remotely(priority=1):\n",
    "    five = two + three\n",
    "assert five == 5"
   ]
  },
  {
   "cell_type": "code",
   "execution_count": null,
   "id": "9b685202-9541-46d9-87c4-b821b0fa55b9",
   "metadata": {},
   "outputs": [],
   "source": []
  }
 ],
 "metadata": {
  "kernelspec": {
   "display_name": "Python 3 (ipykernel)",
   "language": "python",
   "name": "python3"
  },
  "language_info": {
   "codemirror_mode": {
    "name": "ipython",
    "version": 3
   },
   "file_extension": ".py",
   "mimetype": "text/x-python",
   "name": "python",
   "nbconvert_exporter": "python",
   "pygments_lexer": "ipython3",
   "version": "3.8.10"
  }
 },
 "nbformat": 4,
 "nbformat_minor": 5
}
